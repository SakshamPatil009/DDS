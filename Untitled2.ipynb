{
  "nbformat": 4,
  "nbformat_minor": 0,
  "metadata": {
    "colab": {
      "provenance": [],
      "authorship_tag": "ABX9TyMiT9AfXeDfXMy61CgFG/FC",
      "include_colab_link": true
    },
    "kernelspec": {
      "name": "python3",
      "display_name": "Python 3"
    },
    "language_info": {
      "name": "python"
    }
  },
  "cells": [
    {
      "cell_type": "markdown",
      "metadata": {
        "id": "view-in-github",
        "colab_type": "text"
      },
      "source": [
        "<a href=\"https://colab.research.google.com/github/SakshamPatil009/DDS/blob/main/Untitled2.ipynb\" target=\"_parent\"><img src=\"https://colab.research.google.com/assets/colab-badge.svg\" alt=\"Open In Colab\"/></a>"
      ]
    },
    {
      "cell_type": "code",
      "execution_count": 16,
      "metadata": {
        "colab": {
          "base_uri": "https://localhost:8080/"
        },
        "id": "xH9TslLaNONl",
        "outputId": "dca8f55d-668d-4b06-9ee6-c62063098e30"
      },
      "outputs": [
        {
          "output_type": "stream",
          "name": "stdout",
          "text": [
            "Overwriting cat.cpp\n"
          ]
        }
      ],
      "source": [
        "%%writefile cat.cpp\n",
        "\n",
        "#include<iostream>\n",
        "using namespace std;\n",
        "\n",
        "int factorial(int n){\n",
        "    if (n == 1)\n",
        "        return 1;\n",
        "    else\n",
        "        return n * factorial(n - 1);\n",
        "}\n",
        "\n",
        "int main (){\n",
        "  int num = 5;\n",
        "  cout << \"Factorial of \"<<  num  << \" is \" <<  factorial(num)  << endl;\n",
        "  return 0;\n",
        "}"
      ]
    },
    {
      "cell_type": "code",
      "source": [
        "!g++ cat.cpp -o cat"
      ],
      "metadata": {
        "id": "Ozsd3L-eOSeR"
      },
      "execution_count": 14,
      "outputs": []
    },
    {
      "cell_type": "code",
      "source": [
        "!./cat"
      ],
      "metadata": {
        "colab": {
          "base_uri": "https://localhost:8080/"
        },
        "id": "ZbaJHPCxOl4E",
        "outputId": "eb9ce858-78a9-47d7-b538-8460ec1ec559"
      },
      "execution_count": 19,
      "outputs": [
        {
          "output_type": "stream",
          "name": "stdout",
          "text": [
            "Factorial of 5is120\n"
          ]
        }
      ]
    },
    {
      "cell_type": "code",
      "source": [
        "%%writefile rgcd.cpp\n",
        "#include<iostream>\n",
        "using namespace std;\n",
        "\n",
        "int gcd(int a, int b){\n",
        "  if (b == 0)\n",
        "    return a;\n",
        "  return gcd(b, a % b);\n",
        "}\n",
        "\n",
        "int main (){\n",
        "  int a =66, b = 18;\n",
        "  cout << \"GCD of \" << a << \" and \" << b << \" is: \" << gcd (a,b) << endl;\n",
        "  return 0;\n",
        "}"
      ],
      "metadata": {
        "colab": {
          "base_uri": "https://localhost:8080/"
        },
        "id": "pZ96jjYRU_4h",
        "outputId": "25cac926-9144-4c97-c381-2ddd17506b6e"
      },
      "execution_count": 29,
      "outputs": [
        {
          "output_type": "stream",
          "name": "stdout",
          "text": [
            "Overwriting rgcd.cpp\n"
          ]
        }
      ]
    },
    {
      "cell_type": "code",
      "source": [
        "!g++ rgcd.cpp"
      ],
      "metadata": {
        "id": "79vnZSLZV_Qe"
      },
      "execution_count": 30,
      "outputs": []
    },
    {
      "cell_type": "code",
      "source": [
        "!./a.out"
      ],
      "metadata": {
        "colab": {
          "base_uri": "https://localhost:8080/"
        },
        "id": "JoRR_K24Wj1F",
        "outputId": "da9933de-4685-42e4-d2f5-fb465261118f"
      },
      "execution_count": 31,
      "outputs": [
        {
          "output_type": "stream",
          "name": "stdout",
          "text": [
            "GCD of 66 and 18 is: 6\n"
          ]
        }
      ]
    },
    {
      "cell_type": "code",
      "source": [
        "%%writefile fibonacci.cpp\n",
        "#include <iostream>\n",
        "using namespace std;\n",
        "\n",
        "void fibonacci(int n){\n",
        "  int a = 0, b = 1, next;\n",
        "\n",
        "  for (int i = 0; i < n; ++i){\n",
        "    cout << a << \" \";\n",
        "    next = a + b ;\n",
        "    a = b;\n",
        "    b = next;\n",
        "  }\n",
        "  cout << endl;\n",
        "}\n",
        "\n",
        "int main(){\n",
        "  int terms;\n",
        "  cout << \"Enter the number of terms : \";\n",
        "  cin >> terms;\n",
        "\n",
        "  cout << \"Fibonacci sequence up to \" << terms << \" terms: \" << endl;\n",
        "\n",
        "  return 0;\n",
        "}"
      ],
      "metadata": {
        "colab": {
          "base_uri": "https://localhost:8080/"
        },
        "id": "xx5CWV8fXBfO",
        "outputId": "830d8b28-b2fe-4c0d-be9b-07dbdd7daff8"
      },
      "execution_count": 36,
      "outputs": [
        {
          "output_type": "stream",
          "name": "stdout",
          "text": [
            "Overwriting fibonacci.cpp\n"
          ]
        }
      ]
    },
    {
      "cell_type": "code",
      "source": [
        "!g++ fibonacci.cpp -o fib"
      ],
      "metadata": {
        "id": "zOwpaQOhYQa6"
      },
      "execution_count": 37,
      "outputs": []
    },
    {
      "cell_type": "code",
      "source": [
        "!./fib"
      ],
      "metadata": {
        "colab": {
          "base_uri": "https://localhost:8080/"
        },
        "id": "AnS3HfUzYYwS",
        "outputId": "9e725a84-fe28-4707-e83d-e38294596ba2"
      },
      "execution_count": 38,
      "outputs": [
        {
          "output_type": "stream",
          "name": "stdout",
          "text": [
            "Enter the number of terms : 5\n",
            "Fibonacci sequence up to 5 terms: \n"
          ]
        }
      ]
    }
  ]
}